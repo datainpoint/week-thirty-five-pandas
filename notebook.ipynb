{
 "cells": [
  {
   "cell_type": "markdown",
   "id": "90c84034",
   "metadata": {},
   "source": [
    "# 約維安計畫：Pandas\n",
    "\n",
    "> 第三十五週\n",
    "\n",
    "![](pandas_logo.jpeg)\n",
    "\n",
    "來源：<https://pandas.pydata.org/about/citing.html>\n",
    "\n",
    "## Pandas 與熊貓的關係\n",
    "\n",
    "在 Pandas 模組問世以前，Python 缺少一個與 Excel 試算表、R data.frame、SAS Datasets 或 Matlab table 功能相似的資料結構，Pandas 作者 Wes McKinney 認為表格式資料（或稱有標籤的二維陣列 Labeled two-dimensional arrays）是 Python 在資料科學上的最後一塊拼圖，因此他結合了 Python 原生資料結構 tuple 與 set 的特性，創造出 Index 類別，並進一步將 Index 類別整合了 NumPy 模組的 ndarray 類別，創造出 Series 類別與 DataFrame 類別，其中 Series 類別是在一維陣列加上一組標籤、DataFrame 類別是在二維陣列加上兩組標籤。\n",
    "\n",
    "（沒什麼用的冷知識）在更早期的 Pandas 版本中，還有 Panel 類別是在三維陣列加上三組標籤，因此 Panel、DataFrame 與 Series 取開頭的數個英文字母結合，恰巧就是 Pandas，有此一說這是模組命名緣由，因此 Pandas 與熊貓的關係可以說是八竿子打不著，不過 Panel 類別很快地被棄用（Deprecated），因此現今 Pandas 主要的三個類別為 Index、Series 與 DataFrame。\n",
    "\n",
    "## 安裝與載入 Pandas\n",
    "\n",
    "Pandas 的安裝可以透過 pip 或者 conda，如果讀者的 Python 是從 Python.org 下載的就直接透過 pip 安裝，假如是約維安計畫的成員，Python 應該是 Miniconda 版本，那麼建議可以透過 conda 安裝。\n",
    "\n",
    "```bash\n",
    "$ pip install pandas==MAJOR.MINOR.PATCH\n",
    "$ conda install pandas==MAJOR.MINOR.PATCH\n",
    "```\n",
    "\n",
    "如果希望從既有的 Pandas 版本更新升級，可以在 install 指令之後加上 -U 或 --update-deps 參數。\n",
    "\n",
    "```bash\n",
    "$ pip install -U pandas==MAJOR.MINOR.PATCH\n",
    "$ conda install -c conda-forge --update-deps pandas==MAJOR.MINOR.PATCH\n",
    "```\n",
    "\n",
    "官方文件建議載入模組的所有功能並且縮寫為 pd。"
   ]
  },
  {
   "cell_type": "code",
   "execution_count": 1,
   "id": "6b5da123",
   "metadata": {},
   "outputs": [],
   "source": [
    "import pandas as pd"
   ]
  },
  {
   "cell_type": "markdown",
   "id": "6577f981",
   "metadata": {},
   "source": [
    "利用兩個模組內建屬性檢視 Pandas 的安裝版本與路徑。"
   ]
  },
  {
   "cell_type": "code",
   "execution_count": 2,
   "id": "c16f7f61",
   "metadata": {},
   "outputs": [
    {
     "name": "stdout",
     "output_type": "stream",
     "text": [
      "2.0.3\n",
      "/Users/kuoyaojen/miniconda3/lib/python3.11/site-packages/pandas/__init__.py\n"
     ]
    }
   ],
   "source": [
    "print(pd.__version__)\n",
    "print(pd.__file__)"
   ]
  },
  {
   "cell_type": "markdown",
   "id": "2d38d0ce",
   "metadata": {},
   "source": [
    "## 怎樣學好 Pandas\n",
    "\n",
    "學好 Pandas 的關鍵是理解其核心的三個主要類別以及它的根基類別 ndarray，瞭解四個類別彼此之間的關係，就能掌握 Pandas 入門與進階的技巧。\n",
    "\n",
    "- NumPy 的 ndarray 類別是一種可以進行向量化運算的多維度陣列。\n",
    "- Pandas 的 Index 類別是一種結合了 Python 原生資料結構 tuple 與 set 特性的一維資料結構。\n",
    "- Pandas 的 Series 類別是在一維 ndarray 上添加一組 Index 類別的資料結構。\n",
    "- Pandas 的 DataFrame 類別是在二維 ndarray 上添加兩組 Index 類別的資料結構，也可以想成數個 Series 類別共享相同的 Index 類別。\n",
    "\n",
    "## 如何創造 Index\n",
    "\n",
    "以 Index 類別轉換一維資料結構創造 Index。"
   ]
  },
  {
   "cell_type": "code",
   "execution_count": 3,
   "id": "c1f37a74",
   "metadata": {},
   "outputs": [
    {
     "name": "stdout",
     "output_type": "stream",
     "text": [
      "Index([2, 3, 5, 7, 11, 13, 17, 19, 23, 29], dtype='int64')\n",
      "<class 'pandas.core.indexes.base.Index'>\n"
     ]
    }
   ],
   "source": [
    "primes = [2, 3, 5, 7, 11, 13, 17, 19, 23, 29]\n",
    "prime_indices = pd.Index(primes)\n",
    "print(prime_indices)\n",
    "print(type(prime_indices))"
   ]
  },
  {
   "cell_type": "markdown",
   "id": "55ab6f3b",
   "metadata": {},
   "source": [
    "Index 類別具備了 Python 原生資料結構 tuple 與 set 特性，我們首先觀察它的 tuple 特性：不可更動（Immutable）。"
   ]
  },
  {
   "cell_type": "code",
   "execution_count": 4,
   "id": "ac761f6d",
   "metadata": {},
   "outputs": [
    {
     "name": "stdout",
     "output_type": "stream",
     "text": [
      "Index does not support mutable operations\n"
     ]
    }
   ],
   "source": [
    "try:\n",
    "    prime_indices[-1] = 31\n",
    "except TypeError as e:\n",
    "    print(e)"
   ]
  },
  {
   "cell_type": "markdown",
   "id": "ea399336",
   "metadata": {},
   "source": [
    "接著我們再觀察它的 set 特性：集合運算（Set operation）。"
   ]
  },
  {
   "cell_type": "code",
   "execution_count": 5,
   "id": "4cb03f87",
   "metadata": {},
   "outputs": [
    {
     "name": "stdout",
     "output_type": "stream",
     "text": [
      "Index([3, 5, 7, 11, 13, 17, 19, 23, 29], dtype='int64')\n",
      "Index([1, 2, 3, 5, 7, 9, 11, 13, 15, 17, 19, 21, 23, 25, 27, 29], dtype='int64')\n",
      "Index([1, 2, 9, 15, 21, 25, 27], dtype='int64')\n",
      "Index([2], dtype='int64')\n",
      "Index([1, 9, 15, 21, 25, 27], dtype='int64')\n"
     ]
    }
   ],
   "source": [
    "odds = range(1, 30, 2)\n",
    "odd_indices = pd.Index(odds)\n",
    "print(prime_indices.intersection(odd_indices))\n",
    "print(prime_indices.union(odd_indices))\n",
    "print(prime_indices.symmetric_difference(odd_indices))\n",
    "print(prime_indices.difference(odd_indices))\n",
    "print(odd_indices.difference(prime_indices))"
   ]
  },
  {
   "cell_type": "markdown",
   "id": "0c8255b4",
   "metadata": {},
   "source": [
    "## 如何創造 Series\n",
    "\n",
    "以 Series 類別轉換一維資料結構創造 Series。"
   ]
  },
  {
   "cell_type": "code",
   "execution_count": 6,
   "id": "f9d28ea4",
   "metadata": {},
   "outputs": [
    {
     "name": "stdout",
     "output_type": "stream",
     "text": [
      "0     2\n",
      "1     3\n",
      "2     5\n",
      "3     7\n",
      "4    11\n",
      "5    13\n",
      "6    17\n",
      "7    19\n",
      "8    23\n",
      "9    29\n",
      "dtype: int64\n",
      "<class 'pandas.core.series.Series'>\n"
     ]
    }
   ],
   "source": [
    "prime_series = pd.Series(primes)\n",
    "print(prime_series)\n",
    "print(type(prime_series))"
   ]
  },
  {
   "cell_type": "markdown",
   "id": "f886c961",
   "metadata": {},
   "source": [
    "我們首先觀察 Series 是在一維 ndarray 上添加一組 Index 類別的特性。"
   ]
  },
  {
   "cell_type": "code",
   "execution_count": 7,
   "id": "b0bef385",
   "metadata": {},
   "outputs": [
    {
     "name": "stdout",
     "output_type": "stream",
     "text": [
      "<class 'pandas.core.indexes.range.RangeIndex'>\n",
      "<class 'numpy.ndarray'>\n"
     ]
    }
   ],
   "source": [
    "print(type(prime_series.index))\n",
    "print(type(prime_series.values))"
   ]
  },
  {
   "cell_type": "markdown",
   "id": "91e4e336",
   "metadata": {},
   "source": [
    "建立 Series 的時候，我們可以選擇自訂其添加的 Index 類別，預設是使用從零開始的數列。"
   ]
  },
  {
   "cell_type": "code",
   "execution_count": 8,
   "id": "c17f0317",
   "metadata": {},
   "outputs": [
    {
     "name": "stdout",
     "output_type": "stream",
     "text": [
      "1      2\n",
      "2      3\n",
      "3      5\n",
      "4      7\n",
      "5     11\n",
      "6     13\n",
      "7     17\n",
      "8     19\n",
      "9     23\n",
      "10    29\n",
      "dtype: int64\n",
      "RangeIndex(start=1, stop=11, step=1)\n"
     ]
    }
   ],
   "source": [
    "prime_series = pd.Series(primes, index=range(1, 11))\n",
    "print(prime_series)\n",
    "print(prime_series.index)"
   ]
  },
  {
   "cell_type": "markdown",
   "id": "4a157843",
   "metadata": {},
   "source": [
    "由於 Series 的組成中有一個 ndarray，在操作上具備了所有 ndarray 特性，包含向量化運算、華麗索引（Fancy indexing）以及布林索引（Boolean indexing）。"
   ]
  },
  {
   "cell_type": "code",
   "execution_count": 9,
   "id": "6353f256",
   "metadata": {},
   "outputs": [
    {
     "name": "stdout",
     "output_type": "stream",
     "text": [
      "1       4\n",
      "2       9\n",
      "3      25\n",
      "4      49\n",
      "5     121\n",
      "6     169\n",
      "7     289\n",
      "8     361\n",
      "9     529\n",
      "10    841\n",
      "dtype: int64\n",
      "6    13\n",
      "8    19\n",
      "9    23\n",
      "dtype: int64\n",
      "5     11\n",
      "6     13\n",
      "7     17\n",
      "8     19\n",
      "9     23\n",
      "10    29\n",
      "dtype: int64\n"
     ]
    }
   ],
   "source": [
    "print(prime_series**2) # Vectorization\n",
    "print(prime_series[[6, 8, 9]]) # Fancy indexing\n",
    "print(prime_series[prime_series >= 10]) # Boolean indexing"
   ]
  },
  {
   "cell_type": "markdown",
   "id": "6b627208",
   "metadata": {},
   "source": [
    "## 如何創造 DataFrame\n",
    "\n",
    "以 DataFrame 類別轉換二維資料結構成為 DataFrame，由於 DataFrame 是在二維 ndarray 上添加兩組 Index 類別的資料結構，在建立的時候我們能夠選擇以欄為單位（Column-wise）或者以列為單位（Row-wise）兩種輸入資料的方式。\n",
    "\n",
    "首先以欄為單位輸入資料建立 DataFrame。"
   ]
  },
  {
   "cell_type": "code",
   "execution_count": 10,
   "id": "de86a241",
   "metadata": {},
   "outputs": [
    {
     "name": "stdout",
     "output_type": "stream",
     "text": [
      "<class 'pandas.core.frame.DataFrame'>\n"
     ]
    },
    {
     "data": {
      "text/html": [
       "<div>\n",
       "<style scoped>\n",
       "    .dataframe tbody tr th:only-of-type {\n",
       "        vertical-align: middle;\n",
       "    }\n",
       "\n",
       "    .dataframe tbody tr th {\n",
       "        vertical-align: top;\n",
       "    }\n",
       "\n",
       "    .dataframe thead th {\n",
       "        text-align: right;\n",
       "    }\n",
       "</style>\n",
       "<table border=\"1\" class=\"dataframe\">\n",
       "  <thead>\n",
       "    <tr style=\"text-align: right;\">\n",
       "      <th></th>\n",
       "      <th>title</th>\n",
       "      <th>imdb_rating</th>\n",
       "    </tr>\n",
       "  </thead>\n",
       "  <tbody>\n",
       "    <tr>\n",
       "      <th>0</th>\n",
       "      <td>The Shawshank Redemption</td>\n",
       "      <td>9.3</td>\n",
       "    </tr>\n",
       "    <tr>\n",
       "      <th>1</th>\n",
       "      <td>The Dark Knight</td>\n",
       "      <td>9.0</td>\n",
       "    </tr>\n",
       "    <tr>\n",
       "      <th>2</th>\n",
       "      <td>Schindler's List</td>\n",
       "      <td>8.9</td>\n",
       "    </tr>\n",
       "    <tr>\n",
       "      <th>3</th>\n",
       "      <td>Forrest Gump</td>\n",
       "      <td>8.8</td>\n",
       "    </tr>\n",
       "    <tr>\n",
       "      <th>4</th>\n",
       "      <td>Inception</td>\n",
       "      <td>8.7</td>\n",
       "    </tr>\n",
       "  </tbody>\n",
       "</table>\n",
       "</div>"
      ],
      "text/plain": [
       "                      title  imdb_rating\n",
       "0  The Shawshank Redemption          9.3\n",
       "1           The Dark Knight          9.0\n",
       "2          Schindler's List          8.9\n",
       "3              Forrest Gump          8.8\n",
       "4                 Inception          8.7"
      ]
     },
     "execution_count": 10,
     "metadata": {},
     "output_type": "execute_result"
    }
   ],
   "source": [
    "movie_df = pd.DataFrame()\n",
    "movie_df[\"title\"] = [\"The Shawshank Redemption\", \"The Dark Knight\", \"Schindler's List\", \"Forrest Gump\", \"Inception\"]\n",
    "movie_df[\"imdb_rating\"] = [9.3, 9.0, 8.9, 8.8, 8.7]\n",
    "print(type(movie_df))\n",
    "movie_df"
   ]
  },
  {
   "cell_type": "markdown",
   "id": "5d3454cd",
   "metadata": {},
   "source": [
    "亦可以列為單位輸入資料建立 DataFrame，利用 Python 原生資料結構 list 去結合多組鍵（Key）都相同的 dict。"
   ]
  },
  {
   "cell_type": "code",
   "execution_count": 11,
   "id": "6f326fa1",
   "metadata": {},
   "outputs": [
    {
     "name": "stdout",
     "output_type": "stream",
     "text": [
      "<class 'pandas.core.frame.DataFrame'>\n"
     ]
    },
    {
     "data": {
      "text/html": [
       "<div>\n",
       "<style scoped>\n",
       "    .dataframe tbody tr th:only-of-type {\n",
       "        vertical-align: middle;\n",
       "    }\n",
       "\n",
       "    .dataframe tbody tr th {\n",
       "        vertical-align: top;\n",
       "    }\n",
       "\n",
       "    .dataframe thead th {\n",
       "        text-align: right;\n",
       "    }\n",
       "</style>\n",
       "<table border=\"1\" class=\"dataframe\">\n",
       "  <thead>\n",
       "    <tr style=\"text-align: right;\">\n",
       "      <th></th>\n",
       "      <th>title</th>\n",
       "      <th>imdb_rating</th>\n",
       "    </tr>\n",
       "  </thead>\n",
       "  <tbody>\n",
       "    <tr>\n",
       "      <th>0</th>\n",
       "      <td>The Shawshank Redemption</td>\n",
       "      <td>9.3</td>\n",
       "    </tr>\n",
       "    <tr>\n",
       "      <th>1</th>\n",
       "      <td>The Dark Knight</td>\n",
       "      <td>9.0</td>\n",
       "    </tr>\n",
       "    <tr>\n",
       "      <th>2</th>\n",
       "      <td>Schindler's List</td>\n",
       "      <td>8.9</td>\n",
       "    </tr>\n",
       "    <tr>\n",
       "      <th>3</th>\n",
       "      <td>Forrest Gump</td>\n",
       "      <td>8.8</td>\n",
       "    </tr>\n",
       "    <tr>\n",
       "      <th>4</th>\n",
       "      <td>Inception</td>\n",
       "      <td>8.7</td>\n",
       "    </tr>\n",
       "  </tbody>\n",
       "</table>\n",
       "</div>"
      ],
      "text/plain": [
       "                      title  imdb_rating\n",
       "0  The Shawshank Redemption          9.3\n",
       "1           The Dark Knight          9.0\n",
       "2          Schindler's List          8.9\n",
       "3              Forrest Gump          8.8\n",
       "4                 Inception          8.7"
      ]
     },
     "execution_count": 11,
     "metadata": {},
     "output_type": "execute_result"
    }
   ],
   "source": [
    "movie_list = [\n",
    "    {\"title\": \"The Shawshank Redemption\", \"imdb_rating\": 9.3},\n",
    "    {\"title\": \"The Dark Knight\", \"imdb_rating\": 9.0},\n",
    "    {\"title\": \"Schindler's List\", \"imdb_rating\": 8.9},\n",
    "    {\"title\": \"Forrest Gump\", \"imdb_rating\": 8.8},\n",
    "    {\"title\": \"Inception\", \"imdb_rating\": 8.7}\n",
    "]\n",
    "movie_df = pd.DataFrame(movie_list)\n",
    "print(type(movie_df))\n",
    "movie_df"
   ]
  },
  {
   "cell_type": "markdown",
   "id": "b7a0e224",
   "metadata": {},
   "source": [
    "我們可以觀察到 DataFrame 是在二維 ndarray 上添加兩組 Index 類別的特性。"
   ]
  },
  {
   "cell_type": "code",
   "execution_count": 12,
   "id": "fb83027f",
   "metadata": {},
   "outputs": [
    {
     "name": "stdout",
     "output_type": "stream",
     "text": [
      "<class 'numpy.ndarray'>\n",
      "<class 'pandas.core.indexes.range.RangeIndex'>\n",
      "<class 'pandas.core.indexes.base.Index'>\n"
     ]
    }
   ],
   "source": [
    "print(type(movie_df.values))\n",
    "print(type(movie_df.index))\n",
    "print(type(movie_df.columns))"
   ]
  },
  {
   "cell_type": "markdown",
   "id": "451b5a0b",
   "metadata": {},
   "source": [
    "入門 Pandas 之後，我們就能夠在下次的電子報中基礎的資料框操作技巧。第三十五週約維安計畫：Pandas 來到尾聲，希望您也和我一樣期待下一篇文章。對於這篇文章有什麼想法呢？喜歡😻、留言🙋‍♂️或者分享🙌"
   ]
  }
 ],
 "metadata": {
  "kernelspec": {
   "display_name": "Python 3 (ipykernel)",
   "language": "python",
   "name": "python3"
  },
  "language_info": {
   "codemirror_mode": {
    "name": "ipython",
    "version": 3
   },
   "file_extension": ".py",
   "mimetype": "text/x-python",
   "name": "python",
   "nbconvert_exporter": "python",
   "pygments_lexer": "ipython3",
   "version": "3.11.4"
  }
 },
 "nbformat": 4,
 "nbformat_minor": 5
}
